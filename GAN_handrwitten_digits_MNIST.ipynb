{
  "nbformat": 4,
  "nbformat_minor": 0,
  "metadata": {
    "colab": {
      "name": "GAN_handrwitten_digits_MNIST.ipynb",
      "provenance": [],
      "collapsed_sections": []
    },
    "kernelspec": {
      "name": "python3",
      "display_name": "Python 3"
    },
    "accelerator": "GPU"
  },
  "cells": [
    {
      "cell_type": "markdown",
      "metadata": {
        "id": "MJYVYU4lg4cL",
        "colab_type": "text"
      },
      "source": [
        "# Generative Adversarial Networks (GANs)"
      ]
    },
    {
      "cell_type": "markdown",
      "metadata": {
        "id": "9qL9Tg0erpli",
        "colab_type": "text"
      },
      "source": [
        "A generative adversarial network (GAN) is a machine learning (ML) model in which two neural networks compete with each other to become more accurate in their predictions. GANs typically run unsupervised and use a cooperative zero-sum game framework to learn.\n",
        "\n",
        "The two neural networks that make up a GAN are referred to as the generator and the discriminator. The goal of the generator is to artificially manufacture outputs that could easily be mistaken for real data. The goal of the discriminator is to identify which outputs it receives have been artificially created."
      ]
    },
    {
      "cell_type": "markdown",
      "metadata": {
        "id": "J2vfYjQEsYWY",
        "colab_type": "text"
      },
      "source": [
        "## About\n",
        "\n",
        "To generate handwritten digits using GAN. \n",
        "\n",
        "[MNIST](http://yann.lecun.com/exdb/mnist/) dataset is used here."
      ]
    },
    {
      "cell_type": "markdown",
      "metadata": {
        "id": "mO7ETHt9rvhw",
        "colab_type": "text"
      },
      "source": [
        "## Requirements\n",
        "I used Google Colab with GPU support for this project. However, if you want to run this offline you'll need the following:\n",
        "\n",
        "* Python 3\n",
        "* Tensorflow 2.0\n",
        "* Numpy\n",
        "* Matplotlib\n",
        "* Scikit-Image\n",
        "\n",
        "\n"
      ]
    },
    {
      "cell_type": "markdown",
      "metadata": {
        "id": "hGK15G95hO3C",
        "colab_type": "text"
      },
      "source": [
        "## Necessary Imports"
      ]
    },
    {
      "cell_type": "code",
      "metadata": {
        "id": "hI6euJM4Lbfm",
        "colab_type": "code",
        "outputId": "ac9fc024-347b-4c51-9f0c-c3a083ba39bf",
        "colab": {
          "base_uri": "https://localhost:8080/",
          "height": 35
        }
      },
      "source": [
        "try:\n",
        "  %tensorflow_version 2.x\n",
        "except Exception:\n",
        "  pass"
      ],
      "execution_count": 1,
      "outputs": [
        {
          "output_type": "stream",
          "text": [
            "TensorFlow 2.x selected.\n"
          ],
          "name": "stdout"
        }
      ]
    },
    {
      "cell_type": "code",
      "metadata": {
        "id": "0mhpjyVPTy3O",
        "colab_type": "code",
        "colab": {
          "base_uri": "https://localhost:8080/",
          "height": 55
        },
        "outputId": "25a7e906-f6e1-489d-c378-3221b8fd2527"
      },
      "source": [
        "from google.colab import drive\n",
        "drive.mount('/content/drive')"
      ],
      "execution_count": 2,
      "outputs": [
        {
          "output_type": "stream",
          "text": [
            "Drive already mounted at /content/drive; to attempt to forcibly remount, call drive.mount(\"/content/drive\", force_remount=True).\n"
          ],
          "name": "stdout"
        }
      ]
    },
    {
      "cell_type": "code",
      "metadata": {
        "id": "MmDF5zFxBhTF",
        "colab_type": "code",
        "colab": {}
      },
      "source": [
        "import numpy as np\n",
        "import tensorflow as tf\n",
        "from tensorflow.keras.layers import Input, Dense, LeakyReLU, Dropout, BatchNormalization\n",
        "from tensorflow.keras.models import Model\n",
        "from tensorflow.keras.optimizers import SGD, Adam\n",
        "from skimage.io import imread\n",
        "import matplotlib.pyplot as plt\n",
        "import sys, os\n",
        "%matplotlib inline"
      ],
      "execution_count": 0,
      "outputs": []
    },
    {
      "cell_type": "markdown",
      "metadata": {
        "id": "VbAmbSdmhUbh",
        "colab_type": "text"
      },
      "source": [
        "## Loading & Pre-Processing the Dataset"
      ]
    },
    {
      "cell_type": "markdown",
      "metadata": {
        "id": "mT8KNBgkm7ei",
        "colab_type": "text"
      },
      "source": [
        "Load and split the dataset into train and test variables"
      ]
    },
    {
      "cell_type": "code",
      "metadata": {
        "id": "XqIB1I8wBkct",
        "colab_type": "code",
        "colab": {}
      },
      "source": [
        "MNIST = tf.keras.datasets.mnist\n",
        "(X_train, y_train), (X_test, y_test) = MNIST.load_data()"
      ],
      "execution_count": 0,
      "outputs": []
    },
    {
      "cell_type": "markdown",
      "metadata": {
        "id": "acqd_bmMnDs6",
        "colab_type": "text"
      },
      "source": [
        "## Standardizing and Scaling\n",
        "\n",
        "Standardize the training and testing data to follow standard normal distribution and scale the values between -1 to +1"
      ]
    },
    {
      "cell_type": "code",
      "metadata": {
        "id": "Zy0Bxokegytb",
        "colab_type": "code",
        "colab": {}
      },
      "source": [
        "X_train = X_train / 255.0 * 2 - 1\n",
        "X_test = X_test / 255.0 * 2 - 1"
      ],
      "execution_count": 0,
      "outputs": []
    },
    {
      "cell_type": "markdown",
      "metadata": {
        "id": "cKR-ucNwnN1t",
        "colab_type": "text"
      },
      "source": [
        "Reshape train and test variables to required shape"
      ]
    },
    {
      "cell_type": "code",
      "metadata": {
        "id": "pv003V0KgrWh",
        "colab_type": "code",
        "colab": {
          "base_uri": "https://localhost:8080/",
          "height": 35
        },
        "outputId": "6e6770c8-232a-4e5f-b497-345d8a60121b"
      },
      "source": [
        "print(X_train.shape)"
      ],
      "execution_count": 6,
      "outputs": [
        {
          "output_type": "stream",
          "text": [
            "(60000, 28, 28)\n"
          ],
          "name": "stdout"
        }
      ]
    },
    {
      "cell_type": "code",
      "metadata": {
        "id": "GDjyfbCYBxBO",
        "colab_type": "code",
        "colab": {}
      },
      "source": [
        "N, H, W = X_train.shape\n",
        "D = H * W"
      ],
      "execution_count": 0,
      "outputs": []
    },
    {
      "cell_type": "code",
      "metadata": {
        "id": "q8QWOJ9VhgEA",
        "colab_type": "code",
        "colab": {}
      },
      "source": [
        "x_train = X_train.reshape(-1, D)\n",
        "x_test = X_test.reshape(-1, D)"
      ],
      "execution_count": 0,
      "outputs": []
    },
    {
      "cell_type": "markdown",
      "metadata": {
        "id": "dVLDGXIfnVa4",
        "colab_type": "text"
      },
      "source": [
        "Latent space dimension"
      ]
    },
    {
      "cell_type": "code",
      "metadata": {
        "id": "uTbNDWmvCE6V",
        "colab_type": "code",
        "colab": {}
      },
      "source": [
        "latent_dim = 100"
      ],
      "execution_count": 0,
      "outputs": []
    },
    {
      "cell_type": "markdown",
      "metadata": {
        "id": "kdFB5majhkDV",
        "colab_type": "text"
      },
      "source": [
        "## Building the Generator"
      ]
    },
    {
      "cell_type": "markdown",
      "metadata": {
        "id": "1xyUjsm-nrD8",
        "colab_type": "text"
      },
      "source": [
        "The generator is the Neural Network model that will generate the fake image which when input with noise"
      ]
    },
    {
      "cell_type": "code",
      "metadata": {
        "id": "qvm8V2yjB3mB",
        "colab_type": "code",
        "colab": {}
      },
      "source": [
        "def init_generator(latent_dim):\n",
        "  i = Input(shape=(latent_dim,))\n",
        "  \n",
        "  x = Dense(256, activation=LeakyReLU(alpha=0.2))(i)\n",
        "  x = BatchNormalization(momentum=0.7)(x)\n",
        "\n",
        "  x = Dense(512, activation=LeakyReLU(alpha=0.2))(x)\n",
        "  x = BatchNormalization(momentum=0.7)(x)\n",
        "\n",
        "  x = Dense(1024, activation=LeakyReLU(alpha=0.2))(x)\n",
        "  x = BatchNormalization(momentum=0.7)(x)\n",
        "\n",
        "  x = Dense(D, activation='tanh')(x)\n",
        "\n",
        "  model = Model(inputs=i, outputs=x)\n",
        "\n",
        "  return model"
      ],
      "execution_count": 0,
      "outputs": []
    },
    {
      "cell_type": "markdown",
      "metadata": {
        "id": "8riIkFz1hp0l",
        "colab_type": "text"
      },
      "source": [
        "## Building the Discriminator"
      ]
    },
    {
      "cell_type": "markdown",
      "metadata": {
        "id": "p4nmYjKcn83a",
        "colab_type": "text"
      },
      "source": [
        "The discriminator is the Neural Network model that acts as a binary classifier which is going to help our generator to generate photorealistic images"
      ]
    },
    {
      "cell_type": "code",
      "metadata": {
        "id": "X4vBjNK3C2sl",
        "colab_type": "code",
        "colab": {}
      },
      "source": [
        "def init_discriminator(img_size):\n",
        "  i = Input(shape=(img_size,))\n",
        "\n",
        "  x = Dense(512, activation=LeakyReLU(alpha=0.2))(i)\n",
        "\n",
        "  x = Dense(256, activation=LeakyReLU(alpha=0.2))(x)\n",
        "\n",
        "  x = Dense(1, activation='sigmoid')(x)\n",
        "\n",
        "  model = Model(inputs=i, outputs=x)\n",
        "\n",
        "  return model"
      ],
      "execution_count": 0,
      "outputs": []
    },
    {
      "cell_type": "markdown",
      "metadata": {
        "id": "pxSMonpVhwwy",
        "colab_type": "text"
      },
      "source": [
        "## Building the Combined model (Adversarial)"
      ]
    },
    {
      "cell_type": "markdown",
      "metadata": {
        "id": "zcWd2Z7soMj7",
        "colab_type": "text"
      },
      "source": [
        "The combined model is nothing but the adversarial model where the discriminator and generator are going to be adversarial which after proper training can be used to generate photrealistic images and even used to predict fake images"
      ]
    },
    {
      "cell_type": "code",
      "metadata": {
        "id": "DDSVYGpUDPaq",
        "colab_type": "code",
        "colab": {}
      },
      "source": [
        "# instantiate the discriminator\n",
        "discriminator = init_discriminator(D)\n",
        "discriminator.compile(loss='binary_crossentropy', optimizer=Adam(0.0002, 0.5), metrics=['accuracy'])\n",
        "\n",
        "# instatiate the generator\n",
        "generator = init_generator(latent_dim)\n",
        "\n",
        "# input layer of combined model\n",
        "z = Input(shape=(latent_dim,))\n",
        "\n",
        "# input the noise to the generator to generate an image\n",
        "img = generator(z)\n",
        "\n",
        "# freeze discriminator weights\n",
        "discriminator.trainable = False\n",
        "\n",
        "fake_prediction = discriminator(img)\n",
        "\n",
        "# Create and compile the combined model\n",
        "combined_model = Model(inputs=z, outputs=fake_prediction)\n",
        "combined_model.compile(loss='binary_crossentropy', optimizer=Adam(0.0002, 0.5))"
      ],
      "execution_count": 0,
      "outputs": []
    },
    {
      "cell_type": "markdown",
      "metadata": {
        "id": "XviOFCwVh7PI",
        "colab_type": "text"
      },
      "source": [
        "## Utility function\n",
        "\n",
        "To save the images after regular intervals."
      ]
    },
    {
      "cell_type": "code",
      "metadata": {
        "id": "w7_x3drjGSvU",
        "colab_type": "code",
        "colab": {}
      },
      "source": [
        "def save_images(epoch):\n",
        "  if not os.path.exists('/content/drive/My Drive/GAN_images'):\n",
        "    os.makedirs('/content/drive/My Drive/GAN_images')\n",
        "\n",
        "  rows, cols = 5, 5\n",
        "  noise = np.random.randn(rows * cols, latent_dim)\n",
        "  imgs = generator.predict(noise)\n",
        "\n",
        "  imgs = 0.5 * imgs + 0.5\n",
        "\n",
        "  fig, axs = plt.subplots(rows, cols)\n",
        "  idx = 0\n",
        "\n",
        "  for i in range(rows):\n",
        "    for j in range(cols):\n",
        "      axs[i,j].imshow(imgs[idx].reshape(H, W), cmap='gray')\n",
        "      axs[i,j].axis('off')\n",
        "      idx += 1\n",
        "\n",
        "  fig.savefig(\"/content/drive/My Drive/GAN_images/%d.png\" % epoch)\n",
        "  plt.close()"
      ],
      "execution_count": 0,
      "outputs": []
    },
    {
      "cell_type": "markdown",
      "metadata": {
        "id": "jBiU60R7iGmj",
        "colab_type": "text"
      },
      "source": [
        "## Train the GAN"
      ]
    },
    {
      "cell_type": "markdown",
      "metadata": {
        "id": "2W726VaFolSA",
        "colab_type": "text"
      },
      "source": [
        "Train our GAN model for 50000 epochs and save the generated images at specified intervals"
      ]
    },
    {
      "cell_type": "code",
      "metadata": {
        "id": "WLOFTV32EfSr",
        "colab_type": "code",
        "colab": {}
      },
      "source": [
        "# batch size, epochs and interval to save images\n",
        "BATCH_SIZE = 32\n",
        "EPOCHS = 50000 \n",
        "sample_period = 500 "
      ],
      "execution_count": 0,
      "outputs": []
    },
    {
      "cell_type": "code",
      "metadata": {
        "id": "fOOeyVHrfhzv",
        "colab_type": "code",
        "colab": {}
      },
      "source": [
        "# generate 0's and 1's for real and fake labels\n",
        "ones = np.ones(BATCH_SIZE)\n",
        "zeros = np.zeros(BATCH_SIZE)"
      ],
      "execution_count": 0,
      "outputs": []
    },
    {
      "cell_type": "code",
      "metadata": {
        "id": "J9R4uunhfi3w",
        "colab_type": "code",
        "colab": {}
      },
      "source": [
        "# empty lists to store the generator and discriminator's loss\n",
        "d_losses = []\n",
        "g_losses = []"
      ],
      "execution_count": 0,
      "outputs": []
    },
    {
      "cell_type": "code",
      "metadata": {
        "id": "5ocgiDX_FED9",
        "colab_type": "code",
        "outputId": "1705c822-e504-4722-fc44-6bc992a19e2f",
        "colab": {
          "base_uri": "https://localhost:8080/",
          "height": 1000
        }
      },
      "source": [
        "for epoch in range(EPOCHS):\n",
        "  # random selection of images as a batch\n",
        "  idx = np.random.randint(0, x_train.shape[0], BATCH_SIZE)\n",
        "  real_imgs = x_train[idx]\n",
        "  \n",
        "  # generate fake images\n",
        "  noise = np.random.randn(BATCH_SIZE, latent_dim)\n",
        "  fake_imgs = generator.predict(noise)\n",
        "  \n",
        "  # train the discriminator\n",
        "  d_loss_real, d_acc_real = discriminator.train_on_batch(real_imgs, ones)\n",
        "  d_loss_fake, d_acc_fake = discriminator.train_on_batch(fake_imgs, zeros)\n",
        "  d_loss = 0.5 * (d_loss_real + d_loss_fake)\n",
        "  d_acc  = 0.5 * (d_acc_real + d_acc_fake)\n",
        "  \n",
        "  # train the generator\n",
        "  noise = np.random.randn(BATCH_SIZE, latent_dim)\n",
        "  g_loss = combined_model.train_on_batch(noise, ones)\n",
        "  noise = np.random.randn(BATCH_SIZE, latent_dim)\n",
        "  g_loss = combined_model.train_on_batch(noise, ones)\n",
        "\n",
        "  # save the discriminator and generator's losses\n",
        "  d_losses.append(d_loss)\n",
        "  g_losses.append(g_loss)\n",
        "  \n",
        "  # print the training metrics\n",
        "  if epoch % 100 == 0 and epoch!=0:\n",
        "    print(\"Epoch {}\\nDiscriminator Loss {:.2f} Accuracy {:.2f} | Generator Loss {:.2f}\".format((epoch), d_loss, d_acc, g_loss))\n",
        "\n",
        "  if epoch==49999 or epoch==0:\n",
        "    print(\"Epoch {}\\nDiscriminator Loss {:.2f} Accuracy {:.2f} | Generator Loss {:.2f}\".format((epoch+1), d_loss, d_acc, g_loss))  \n",
        "\n",
        "  # save the generated images at given training intervals\n",
        "  if epoch % sample_period == 0:\n",
        "    save_images(epoch)"
      ],
      "execution_count": 17,
      "outputs": [
        {
          "output_type": "stream",
          "text": [
            "Epoch 1\n",
            "Discriminator Loss 0.95 Accuracy 0.45 | Generator Loss 0.89\n",
            "Epoch 100\n",
            "Discriminator Loss 0.03 Accuracy 1.00 | Generator Loss 3.53\n",
            "Epoch 200\n",
            "Discriminator Loss 0.85 Accuracy 0.42 | Generator Loss 0.69\n",
            "Epoch 300\n",
            "Discriminator Loss 0.72 Accuracy 0.38 | Generator Loss 0.60\n",
            "Epoch 400\n",
            "Discriminator Loss 0.70 Accuracy 0.50 | Generator Loss 0.61\n",
            "Epoch 500\n",
            "Discriminator Loss 0.69 Accuracy 0.48 | Generator Loss 0.64\n",
            "Epoch 600\n",
            "Discriminator Loss 0.69 Accuracy 0.44 | Generator Loss 0.66\n",
            "Epoch 700\n",
            "Discriminator Loss 0.68 Accuracy 0.53 | Generator Loss 0.68\n",
            "Epoch 800\n",
            "Discriminator Loss 0.65 Accuracy 0.67 | Generator Loss 0.73\n",
            "Epoch 900\n",
            "Discriminator Loss 0.70 Accuracy 0.50 | Generator Loss 0.75\n",
            "Epoch 1000\n",
            "Discriminator Loss 0.63 Accuracy 0.66 | Generator Loss 0.74\n",
            "Epoch 1100\n",
            "Discriminator Loss 0.66 Accuracy 0.67 | Generator Loss 0.78\n",
            "Epoch 1200\n",
            "Discriminator Loss 0.61 Accuracy 0.69 | Generator Loss 0.81\n",
            "Epoch 1300\n",
            "Discriminator Loss 0.63 Accuracy 0.66 | Generator Loss 0.86\n",
            "Epoch 1400\n",
            "Discriminator Loss 0.62 Accuracy 0.67 | Generator Loss 0.83\n",
            "Epoch 1500\n",
            "Discriminator Loss 0.66 Accuracy 0.69 | Generator Loss 0.79\n",
            "Epoch 1600\n",
            "Discriminator Loss 0.66 Accuracy 0.61 | Generator Loss 0.77\n",
            "Epoch 1700\n",
            "Discriminator Loss 0.67 Accuracy 0.55 | Generator Loss 0.77\n",
            "Epoch 1800\n",
            "Discriminator Loss 0.66 Accuracy 0.58 | Generator Loss 0.79\n",
            "Epoch 1900\n",
            "Discriminator Loss 0.66 Accuracy 0.59 | Generator Loss 0.77\n",
            "Epoch 2000\n",
            "Discriminator Loss 0.68 Accuracy 0.56 | Generator Loss 0.81\n",
            "Epoch 2100\n",
            "Discriminator Loss 0.70 Accuracy 0.56 | Generator Loss 0.80\n",
            "Epoch 2200\n",
            "Discriminator Loss 0.64 Accuracy 0.69 | Generator Loss 0.83\n",
            "Epoch 2300\n",
            "Discriminator Loss 0.66 Accuracy 0.59 | Generator Loss 0.80\n",
            "Epoch 2400\n",
            "Discriminator Loss 0.66 Accuracy 0.67 | Generator Loss 0.79\n",
            "Epoch 2500\n",
            "Discriminator Loss 0.71 Accuracy 0.48 | Generator Loss 0.77\n",
            "Epoch 2600\n",
            "Discriminator Loss 0.64 Accuracy 0.66 | Generator Loss 0.78\n",
            "Epoch 2700\n",
            "Discriminator Loss 0.66 Accuracy 0.58 | Generator Loss 0.81\n",
            "Epoch 2800\n",
            "Discriminator Loss 0.69 Accuracy 0.52 | Generator Loss 0.81\n",
            "Epoch 2900\n",
            "Discriminator Loss 0.65 Accuracy 0.69 | Generator Loss 0.78\n",
            "Epoch 3000\n",
            "Discriminator Loss 0.66 Accuracy 0.64 | Generator Loss 0.85\n",
            "Epoch 3100\n",
            "Discriminator Loss 0.71 Accuracy 0.61 | Generator Loss 0.79\n",
            "Epoch 3200\n",
            "Discriminator Loss 0.69 Accuracy 0.50 | Generator Loss 0.78\n",
            "Epoch 3300\n",
            "Discriminator Loss 0.68 Accuracy 0.62 | Generator Loss 0.76\n",
            "Epoch 3400\n",
            "Discriminator Loss 0.66 Accuracy 0.64 | Generator Loss 0.81\n",
            "Epoch 3500\n",
            "Discriminator Loss 0.69 Accuracy 0.62 | Generator Loss 0.76\n",
            "Epoch 3600\n",
            "Discriminator Loss 0.67 Accuracy 0.61 | Generator Loss 0.77\n",
            "Epoch 3700\n",
            "Discriminator Loss 0.67 Accuracy 0.55 | Generator Loss 0.78\n",
            "Epoch 3800\n",
            "Discriminator Loss 0.72 Accuracy 0.52 | Generator Loss 0.78\n",
            "Epoch 3900\n",
            "Discriminator Loss 0.68 Accuracy 0.52 | Generator Loss 0.75\n",
            "Epoch 4000\n",
            "Discriminator Loss 0.68 Accuracy 0.52 | Generator Loss 0.85\n",
            "Epoch 4100\n",
            "Discriminator Loss 0.66 Accuracy 0.59 | Generator Loss 0.76\n",
            "Epoch 4200\n",
            "Discriminator Loss 0.69 Accuracy 0.48 | Generator Loss 0.73\n",
            "Epoch 4300\n",
            "Discriminator Loss 0.68 Accuracy 0.58 | Generator Loss 0.77\n",
            "Epoch 4400\n",
            "Discriminator Loss 0.67 Accuracy 0.61 | Generator Loss 0.78\n",
            "Epoch 4500\n",
            "Discriminator Loss 0.68 Accuracy 0.56 | Generator Loss 0.79\n",
            "Epoch 4600\n",
            "Discriminator Loss 0.69 Accuracy 0.58 | Generator Loss 0.80\n",
            "Epoch 4700\n",
            "Discriminator Loss 0.71 Accuracy 0.52 | Generator Loss 0.82\n",
            "Epoch 4800\n",
            "Discriminator Loss 0.69 Accuracy 0.50 | Generator Loss 0.84\n",
            "Epoch 4900\n",
            "Discriminator Loss 0.65 Accuracy 0.64 | Generator Loss 0.83\n",
            "Epoch 5000\n",
            "Discriminator Loss 0.66 Accuracy 0.56 | Generator Loss 0.83\n",
            "Epoch 5100\n",
            "Discriminator Loss 0.70 Accuracy 0.55 | Generator Loss 0.74\n",
            "Epoch 5200\n",
            "Discriminator Loss 0.71 Accuracy 0.45 | Generator Loss 0.76\n",
            "Epoch 5300\n",
            "Discriminator Loss 0.67 Accuracy 0.61 | Generator Loss 0.78\n",
            "Epoch 5400\n",
            "Discriminator Loss 0.69 Accuracy 0.55 | Generator Loss 0.76\n",
            "Epoch 5500\n",
            "Discriminator Loss 0.67 Accuracy 0.62 | Generator Loss 0.79\n",
            "Epoch 5600\n",
            "Discriminator Loss 0.72 Accuracy 0.45 | Generator Loss 0.77\n",
            "Epoch 5700\n",
            "Discriminator Loss 0.68 Accuracy 0.56 | Generator Loss 0.76\n",
            "Epoch 5800\n",
            "Discriminator Loss 0.66 Accuracy 0.64 | Generator Loss 0.77\n",
            "Epoch 5900\n",
            "Discriminator Loss 0.74 Accuracy 0.38 | Generator Loss 0.77\n",
            "Epoch 6000\n",
            "Discriminator Loss 0.71 Accuracy 0.55 | Generator Loss 0.82\n",
            "Epoch 6100\n",
            "Discriminator Loss 0.68 Accuracy 0.61 | Generator Loss 0.74\n",
            "Epoch 6200\n",
            "Discriminator Loss 0.70 Accuracy 0.52 | Generator Loss 0.74\n",
            "Epoch 6300\n",
            "Discriminator Loss 0.68 Accuracy 0.61 | Generator Loss 0.76\n",
            "Epoch 6400\n",
            "Discriminator Loss 0.67 Accuracy 0.61 | Generator Loss 0.76\n",
            "Epoch 6500\n",
            "Discriminator Loss 0.69 Accuracy 0.50 | Generator Loss 0.80\n",
            "Epoch 6600\n",
            "Discriminator Loss 0.68 Accuracy 0.59 | Generator Loss 0.77\n",
            "Epoch 6700\n",
            "Discriminator Loss 0.64 Accuracy 0.66 | Generator Loss 0.81\n",
            "Epoch 6800\n",
            "Discriminator Loss 0.70 Accuracy 0.42 | Generator Loss 0.78\n",
            "Epoch 6900\n",
            "Discriminator Loss 0.68 Accuracy 0.53 | Generator Loss 0.79\n",
            "Epoch 7000\n",
            "Discriminator Loss 0.70 Accuracy 0.52 | Generator Loss 0.77\n",
            "Epoch 7100\n",
            "Discriminator Loss 0.69 Accuracy 0.62 | Generator Loss 0.77\n",
            "Epoch 7200\n",
            "Discriminator Loss 0.69 Accuracy 0.50 | Generator Loss 0.83\n",
            "Epoch 7300\n",
            "Discriminator Loss 0.73 Accuracy 0.45 | Generator Loss 0.76\n",
            "Epoch 7400\n",
            "Discriminator Loss 0.70 Accuracy 0.55 | Generator Loss 0.81\n",
            "Epoch 7500\n",
            "Discriminator Loss 0.74 Accuracy 0.44 | Generator Loss 0.74\n",
            "Epoch 7600\n",
            "Discriminator Loss 0.69 Accuracy 0.58 | Generator Loss 0.79\n",
            "Epoch 7700\n",
            "Discriminator Loss 0.66 Accuracy 0.58 | Generator Loss 0.82\n",
            "Epoch 7800\n",
            "Discriminator Loss 0.68 Accuracy 0.61 | Generator Loss 0.79\n",
            "Epoch 7900\n",
            "Discriminator Loss 0.71 Accuracy 0.55 | Generator Loss 0.82\n",
            "Epoch 8000\n",
            "Discriminator Loss 0.71 Accuracy 0.59 | Generator Loss 0.80\n",
            "Epoch 8100\n",
            "Discriminator Loss 0.68 Accuracy 0.59 | Generator Loss 0.75\n",
            "Epoch 8200\n",
            "Discriminator Loss 0.74 Accuracy 0.45 | Generator Loss 0.78\n",
            "Epoch 8300\n",
            "Discriminator Loss 0.73 Accuracy 0.53 | Generator Loss 0.76\n",
            "Epoch 8400\n",
            "Discriminator Loss 0.64 Accuracy 0.64 | Generator Loss 0.77\n",
            "Epoch 8500\n",
            "Discriminator Loss 0.63 Accuracy 0.69 | Generator Loss 0.77\n",
            "Epoch 8600\n",
            "Discriminator Loss 0.70 Accuracy 0.55 | Generator Loss 0.82\n",
            "Epoch 8700\n",
            "Discriminator Loss 0.69 Accuracy 0.53 | Generator Loss 0.78\n",
            "Epoch 8800\n",
            "Discriminator Loss 0.64 Accuracy 0.67 | Generator Loss 0.78\n",
            "Epoch 8900\n",
            "Discriminator Loss 0.68 Accuracy 0.56 | Generator Loss 0.78\n",
            "Epoch 9000\n",
            "Discriminator Loss 0.67 Accuracy 0.55 | Generator Loss 0.76\n",
            "Epoch 9100\n",
            "Discriminator Loss 0.66 Accuracy 0.61 | Generator Loss 0.86\n",
            "Epoch 9200\n",
            "Discriminator Loss 0.65 Accuracy 0.62 | Generator Loss 0.81\n",
            "Epoch 9300\n",
            "Discriminator Loss 0.69 Accuracy 0.59 | Generator Loss 0.76\n",
            "Epoch 9400\n",
            "Discriminator Loss 0.68 Accuracy 0.59 | Generator Loss 0.79\n",
            "Epoch 9500\n",
            "Discriminator Loss 0.66 Accuracy 0.62 | Generator Loss 0.79\n",
            "Epoch 9600\n",
            "Discriminator Loss 0.70 Accuracy 0.56 | Generator Loss 0.74\n",
            "Epoch 9700\n",
            "Discriminator Loss 0.68 Accuracy 0.58 | Generator Loss 0.75\n",
            "Epoch 9800\n",
            "Discriminator Loss 0.65 Accuracy 0.59 | Generator Loss 0.83\n",
            "Epoch 9900\n",
            "Discriminator Loss 0.65 Accuracy 0.69 | Generator Loss 0.78\n",
            "Epoch 10000\n",
            "Discriminator Loss 0.69 Accuracy 0.53 | Generator Loss 0.78\n",
            "Epoch 10100\n",
            "Discriminator Loss 0.66 Accuracy 0.72 | Generator Loss 0.75\n",
            "Epoch 10200\n",
            "Discriminator Loss 0.69 Accuracy 0.58 | Generator Loss 0.75\n",
            "Epoch 10300\n",
            "Discriminator Loss 0.68 Accuracy 0.48 | Generator Loss 0.79\n",
            "Epoch 10400\n",
            "Discriminator Loss 0.70 Accuracy 0.53 | Generator Loss 0.79\n",
            "Epoch 10500\n",
            "Discriminator Loss 0.66 Accuracy 0.52 | Generator Loss 0.77\n",
            "Epoch 10600\n",
            "Discriminator Loss 0.63 Accuracy 0.67 | Generator Loss 0.82\n",
            "Epoch 10700\n",
            "Discriminator Loss 0.70 Accuracy 0.47 | Generator Loss 0.80\n",
            "Epoch 10800\n",
            "Discriminator Loss 0.69 Accuracy 0.56 | Generator Loss 0.80\n",
            "Epoch 10900\n",
            "Discriminator Loss 0.67 Accuracy 0.58 | Generator Loss 0.82\n",
            "Epoch 11000\n",
            "Discriminator Loss 0.69 Accuracy 0.61 | Generator Loss 0.77\n",
            "Epoch 11100\n",
            "Discriminator Loss 0.69 Accuracy 0.53 | Generator Loss 0.82\n",
            "Epoch 11200\n",
            "Discriminator Loss 0.70 Accuracy 0.55 | Generator Loss 0.85\n",
            "Epoch 11300\n",
            "Discriminator Loss 0.65 Accuracy 0.67 | Generator Loss 0.84\n",
            "Epoch 11400\n",
            "Discriminator Loss 0.71 Accuracy 0.50 | Generator Loss 0.74\n",
            "Epoch 11500\n",
            "Discriminator Loss 0.70 Accuracy 0.55 | Generator Loss 0.75\n",
            "Epoch 11600\n",
            "Discriminator Loss 0.66 Accuracy 0.61 | Generator Loss 0.74\n",
            "Epoch 11700\n",
            "Discriminator Loss 0.70 Accuracy 0.52 | Generator Loss 0.76\n",
            "Epoch 11800\n",
            "Discriminator Loss 0.69 Accuracy 0.58 | Generator Loss 0.72\n",
            "Epoch 11900\n",
            "Discriminator Loss 0.68 Accuracy 0.53 | Generator Loss 0.78\n",
            "Epoch 12000\n",
            "Discriminator Loss 0.64 Accuracy 0.69 | Generator Loss 0.79\n",
            "Epoch 12100\n",
            "Discriminator Loss 0.69 Accuracy 0.59 | Generator Loss 0.80\n",
            "Epoch 12200\n",
            "Discriminator Loss 0.71 Accuracy 0.52 | Generator Loss 0.81\n",
            "Epoch 12300\n",
            "Discriminator Loss 0.69 Accuracy 0.53 | Generator Loss 0.74\n",
            "Epoch 12400\n",
            "Discriminator Loss 0.66 Accuracy 0.64 | Generator Loss 0.80\n",
            "Epoch 12500\n",
            "Discriminator Loss 0.71 Accuracy 0.47 | Generator Loss 0.84\n",
            "Epoch 12600\n",
            "Discriminator Loss 0.70 Accuracy 0.50 | Generator Loss 0.80\n",
            "Epoch 12700\n",
            "Discriminator Loss 0.66 Accuracy 0.62 | Generator Loss 0.77\n",
            "Epoch 12800\n",
            "Discriminator Loss 0.69 Accuracy 0.47 | Generator Loss 0.82\n",
            "Epoch 12900\n",
            "Discriminator Loss 0.66 Accuracy 0.56 | Generator Loss 0.87\n",
            "Epoch 13000\n",
            "Discriminator Loss 0.66 Accuracy 0.56 | Generator Loss 0.81\n",
            "Epoch 13100\n",
            "Discriminator Loss 0.65 Accuracy 0.66 | Generator Loss 0.81\n",
            "Epoch 13200\n",
            "Discriminator Loss 0.64 Accuracy 0.69 | Generator Loss 0.81\n",
            "Epoch 13300\n",
            "Discriminator Loss 0.71 Accuracy 0.53 | Generator Loss 0.78\n",
            "Epoch 13400\n",
            "Discriminator Loss 0.67 Accuracy 0.62 | Generator Loss 0.81\n",
            "Epoch 13500\n",
            "Discriminator Loss 0.68 Accuracy 0.48 | Generator Loss 0.78\n",
            "Epoch 13600\n",
            "Discriminator Loss 0.71 Accuracy 0.50 | Generator Loss 0.81\n",
            "Epoch 13700\n",
            "Discriminator Loss 0.68 Accuracy 0.58 | Generator Loss 0.78\n",
            "Epoch 13800\n",
            "Discriminator Loss 0.67 Accuracy 0.58 | Generator Loss 0.83\n",
            "Epoch 13900\n",
            "Discriminator Loss 0.69 Accuracy 0.55 | Generator Loss 0.81\n",
            "Epoch 14000\n",
            "Discriminator Loss 0.67 Accuracy 0.56 | Generator Loss 0.81\n",
            "Epoch 14100\n",
            "Discriminator Loss 0.67 Accuracy 0.58 | Generator Loss 0.78\n",
            "Epoch 14200\n",
            "Discriminator Loss 0.69 Accuracy 0.55 | Generator Loss 0.83\n",
            "Epoch 14300\n",
            "Discriminator Loss 0.70 Accuracy 0.48 | Generator Loss 0.80\n",
            "Epoch 14400\n",
            "Discriminator Loss 0.73 Accuracy 0.47 | Generator Loss 0.81\n",
            "Epoch 14500\n",
            "Discriminator Loss 0.66 Accuracy 0.52 | Generator Loss 0.76\n",
            "Epoch 14600\n",
            "Discriminator Loss 0.72 Accuracy 0.52 | Generator Loss 0.73\n",
            "Epoch 14700\n",
            "Discriminator Loss 0.67 Accuracy 0.58 | Generator Loss 0.74\n",
            "Epoch 14800\n",
            "Discriminator Loss 0.69 Accuracy 0.55 | Generator Loss 0.78\n",
            "Epoch 14900\n",
            "Discriminator Loss 0.68 Accuracy 0.50 | Generator Loss 0.77\n",
            "Epoch 15000\n",
            "Discriminator Loss 0.63 Accuracy 0.62 | Generator Loss 0.81\n",
            "Epoch 15100\n",
            "Discriminator Loss 0.67 Accuracy 0.56 | Generator Loss 0.78\n",
            "Epoch 15200\n",
            "Discriminator Loss 0.69 Accuracy 0.56 | Generator Loss 0.85\n",
            "Epoch 15300\n",
            "Discriminator Loss 0.72 Accuracy 0.53 | Generator Loss 0.81\n",
            "Epoch 15400\n",
            "Discriminator Loss 0.63 Accuracy 0.70 | Generator Loss 0.77\n",
            "Epoch 15500\n",
            "Discriminator Loss 0.68 Accuracy 0.56 | Generator Loss 0.84\n",
            "Epoch 15600\n",
            "Discriminator Loss 0.67 Accuracy 0.58 | Generator Loss 0.79\n",
            "Epoch 15700\n",
            "Discriminator Loss 0.68 Accuracy 0.50 | Generator Loss 0.80\n",
            "Epoch 15800\n",
            "Discriminator Loss 0.69 Accuracy 0.47 | Generator Loss 0.76\n",
            "Epoch 15900\n",
            "Discriminator Loss 0.66 Accuracy 0.66 | Generator Loss 0.77\n",
            "Epoch 16000\n",
            "Discriminator Loss 0.69 Accuracy 0.55 | Generator Loss 0.80\n",
            "Epoch 16100\n",
            "Discriminator Loss 0.71 Accuracy 0.50 | Generator Loss 0.87\n",
            "Epoch 16200\n",
            "Discriminator Loss 0.70 Accuracy 0.50 | Generator Loss 0.73\n",
            "Epoch 16300\n",
            "Discriminator Loss 0.64 Accuracy 0.61 | Generator Loss 0.73\n",
            "Epoch 16400\n",
            "Discriminator Loss 0.69 Accuracy 0.50 | Generator Loss 0.76\n",
            "Epoch 16500\n",
            "Discriminator Loss 0.71 Accuracy 0.50 | Generator Loss 0.81\n",
            "Epoch 16600\n",
            "Discriminator Loss 0.71 Accuracy 0.55 | Generator Loss 0.82\n",
            "Epoch 16700\n",
            "Discriminator Loss 0.73 Accuracy 0.50 | Generator Loss 0.82\n",
            "Epoch 16800\n",
            "Discriminator Loss 0.69 Accuracy 0.53 | Generator Loss 0.78\n",
            "Epoch 16900\n",
            "Discriminator Loss 0.71 Accuracy 0.55 | Generator Loss 0.82\n",
            "Epoch 17000\n",
            "Discriminator Loss 0.73 Accuracy 0.47 | Generator Loss 0.82\n",
            "Epoch 17100\n",
            "Discriminator Loss 0.69 Accuracy 0.56 | Generator Loss 0.77\n",
            "Epoch 17200\n",
            "Discriminator Loss 0.69 Accuracy 0.58 | Generator Loss 0.77\n",
            "Epoch 17300\n",
            "Discriminator Loss 0.70 Accuracy 0.53 | Generator Loss 0.73\n",
            "Epoch 17400\n",
            "Discriminator Loss 0.67 Accuracy 0.59 | Generator Loss 0.80\n",
            "Epoch 17500\n",
            "Discriminator Loss 0.66 Accuracy 0.56 | Generator Loss 0.78\n",
            "Epoch 17600\n",
            "Discriminator Loss 0.68 Accuracy 0.52 | Generator Loss 0.78\n",
            "Epoch 17700\n",
            "Discriminator Loss 0.68 Accuracy 0.55 | Generator Loss 0.82\n",
            "Epoch 17800\n",
            "Discriminator Loss 0.66 Accuracy 0.64 | Generator Loss 0.80\n",
            "Epoch 17900\n",
            "Discriminator Loss 0.73 Accuracy 0.47 | Generator Loss 0.83\n",
            "Epoch 18000\n",
            "Discriminator Loss 0.68 Accuracy 0.58 | Generator Loss 0.80\n",
            "Epoch 18100\n",
            "Discriminator Loss 0.72 Accuracy 0.50 | Generator Loss 0.81\n",
            "Epoch 18200\n",
            "Discriminator Loss 0.65 Accuracy 0.66 | Generator Loss 0.79\n",
            "Epoch 18300\n",
            "Discriminator Loss 0.66 Accuracy 0.67 | Generator Loss 0.77\n",
            "Epoch 18400\n",
            "Discriminator Loss 0.70 Accuracy 0.44 | Generator Loss 0.77\n",
            "Epoch 18500\n",
            "Discriminator Loss 0.68 Accuracy 0.56 | Generator Loss 0.80\n",
            "Epoch 18600\n",
            "Discriminator Loss 0.64 Accuracy 0.64 | Generator Loss 0.82\n",
            "Epoch 18700\n",
            "Discriminator Loss 0.72 Accuracy 0.50 | Generator Loss 0.83\n",
            "Epoch 18800\n",
            "Discriminator Loss 0.66 Accuracy 0.55 | Generator Loss 0.75\n",
            "Epoch 18900\n",
            "Discriminator Loss 0.64 Accuracy 0.58 | Generator Loss 0.85\n",
            "Epoch 19000\n",
            "Discriminator Loss 0.68 Accuracy 0.59 | Generator Loss 0.79\n",
            "Epoch 19100\n",
            "Discriminator Loss 0.71 Accuracy 0.48 | Generator Loss 0.84\n",
            "Epoch 19200\n",
            "Discriminator Loss 0.69 Accuracy 0.48 | Generator Loss 0.80\n",
            "Epoch 19300\n",
            "Discriminator Loss 0.69 Accuracy 0.55 | Generator Loss 0.82\n",
            "Epoch 19400\n",
            "Discriminator Loss 0.72 Accuracy 0.42 | Generator Loss 0.80\n",
            "Epoch 19500\n",
            "Discriminator Loss 0.70 Accuracy 0.52 | Generator Loss 0.77\n",
            "Epoch 19600\n",
            "Discriminator Loss 0.66 Accuracy 0.59 | Generator Loss 0.84\n",
            "Epoch 19700\n",
            "Discriminator Loss 0.73 Accuracy 0.42 | Generator Loss 0.86\n",
            "Epoch 19800\n",
            "Discriminator Loss 0.71 Accuracy 0.48 | Generator Loss 0.85\n",
            "Epoch 19900\n",
            "Discriminator Loss 0.68 Accuracy 0.58 | Generator Loss 0.83\n",
            "Epoch 20000\n",
            "Discriminator Loss 0.72 Accuracy 0.44 | Generator Loss 0.79\n",
            "Epoch 20100\n",
            "Discriminator Loss 0.66 Accuracy 0.61 | Generator Loss 0.80\n",
            "Epoch 20200\n",
            "Discriminator Loss 0.71 Accuracy 0.55 | Generator Loss 0.78\n",
            "Epoch 20300\n",
            "Discriminator Loss 0.63 Accuracy 0.67 | Generator Loss 0.79\n",
            "Epoch 20400\n",
            "Discriminator Loss 0.66 Accuracy 0.66 | Generator Loss 0.83\n",
            "Epoch 20500\n",
            "Discriminator Loss 0.71 Accuracy 0.55 | Generator Loss 0.80\n",
            "Epoch 20600\n",
            "Discriminator Loss 0.64 Accuracy 0.67 | Generator Loss 0.83\n",
            "Epoch 20700\n",
            "Discriminator Loss 0.64 Accuracy 0.69 | Generator Loss 0.88\n",
            "Epoch 20800\n",
            "Discriminator Loss 0.65 Accuracy 0.70 | Generator Loss 0.80\n",
            "Epoch 20900\n",
            "Discriminator Loss 0.73 Accuracy 0.48 | Generator Loss 0.79\n",
            "Epoch 21000\n",
            "Discriminator Loss 0.69 Accuracy 0.62 | Generator Loss 0.78\n",
            "Epoch 21100\n",
            "Discriminator Loss 0.66 Accuracy 0.58 | Generator Loss 0.73\n",
            "Epoch 21200\n",
            "Discriminator Loss 0.67 Accuracy 0.50 | Generator Loss 0.86\n",
            "Epoch 21300\n",
            "Discriminator Loss 0.69 Accuracy 0.50 | Generator Loss 0.84\n",
            "Epoch 21400\n",
            "Discriminator Loss 0.67 Accuracy 0.59 | Generator Loss 0.80\n",
            "Epoch 21500\n",
            "Discriminator Loss 0.65 Accuracy 0.66 | Generator Loss 0.80\n",
            "Epoch 21600\n",
            "Discriminator Loss 0.69 Accuracy 0.50 | Generator Loss 0.83\n",
            "Epoch 21700\n",
            "Discriminator Loss 0.72 Accuracy 0.48 | Generator Loss 0.78\n",
            "Epoch 21800\n",
            "Discriminator Loss 0.70 Accuracy 0.52 | Generator Loss 0.83\n",
            "Epoch 21900\n",
            "Discriminator Loss 0.69 Accuracy 0.48 | Generator Loss 0.87\n",
            "Epoch 22000\n",
            "Discriminator Loss 0.68 Accuracy 0.53 | Generator Loss 0.80\n",
            "Epoch 22100\n",
            "Discriminator Loss 0.68 Accuracy 0.59 | Generator Loss 0.81\n",
            "Epoch 22200\n",
            "Discriminator Loss 0.67 Accuracy 0.58 | Generator Loss 0.81\n",
            "Epoch 22300\n",
            "Discriminator Loss 0.69 Accuracy 0.53 | Generator Loss 0.80\n",
            "Epoch 22400\n",
            "Discriminator Loss 0.65 Accuracy 0.58 | Generator Loss 0.72\n",
            "Epoch 22500\n",
            "Discriminator Loss 0.73 Accuracy 0.44 | Generator Loss 0.79\n",
            "Epoch 22600\n",
            "Discriminator Loss 0.66 Accuracy 0.61 | Generator Loss 0.84\n",
            "Epoch 22700\n",
            "Discriminator Loss 0.67 Accuracy 0.52 | Generator Loss 0.83\n",
            "Epoch 22800\n",
            "Discriminator Loss 0.63 Accuracy 0.70 | Generator Loss 0.80\n",
            "Epoch 22900\n",
            "Discriminator Loss 0.66 Accuracy 0.56 | Generator Loss 0.80\n",
            "Epoch 23000\n",
            "Discriminator Loss 0.66 Accuracy 0.59 | Generator Loss 0.82\n",
            "Epoch 23100\n",
            "Discriminator Loss 0.74 Accuracy 0.48 | Generator Loss 0.78\n",
            "Epoch 23200\n",
            "Discriminator Loss 0.69 Accuracy 0.53 | Generator Loss 0.82\n",
            "Epoch 23300\n",
            "Discriminator Loss 0.69 Accuracy 0.48 | Generator Loss 0.79\n",
            "Epoch 23400\n",
            "Discriminator Loss 0.65 Accuracy 0.58 | Generator Loss 0.79\n",
            "Epoch 23500\n",
            "Discriminator Loss 0.67 Accuracy 0.62 | Generator Loss 0.89\n",
            "Epoch 23600\n",
            "Discriminator Loss 0.71 Accuracy 0.42 | Generator Loss 0.71\n",
            "Epoch 23700\n",
            "Discriminator Loss 0.64 Accuracy 0.62 | Generator Loss 0.78\n",
            "Epoch 23800\n",
            "Discriminator Loss 0.68 Accuracy 0.58 | Generator Loss 0.78\n",
            "Epoch 23900\n",
            "Discriminator Loss 0.71 Accuracy 0.52 | Generator Loss 0.81\n",
            "Epoch 24000\n",
            "Discriminator Loss 0.65 Accuracy 0.64 | Generator Loss 0.76\n",
            "Epoch 24100\n",
            "Discriminator Loss 0.66 Accuracy 0.62 | Generator Loss 0.75\n",
            "Epoch 24200\n",
            "Discriminator Loss 0.70 Accuracy 0.48 | Generator Loss 0.85\n",
            "Epoch 24300\n",
            "Discriminator Loss 0.68 Accuracy 0.66 | Generator Loss 0.80\n",
            "Epoch 24400\n",
            "Discriminator Loss 0.69 Accuracy 0.53 | Generator Loss 0.89\n",
            "Epoch 24500\n",
            "Discriminator Loss 0.63 Accuracy 0.64 | Generator Loss 0.76\n",
            "Epoch 24600\n",
            "Discriminator Loss 0.73 Accuracy 0.48 | Generator Loss 0.81\n",
            "Epoch 24700\n",
            "Discriminator Loss 0.70 Accuracy 0.47 | Generator Loss 0.84\n",
            "Epoch 24800\n",
            "Discriminator Loss 0.70 Accuracy 0.53 | Generator Loss 0.78\n",
            "Epoch 24900\n",
            "Discriminator Loss 0.68 Accuracy 0.53 | Generator Loss 0.88\n",
            "Epoch 25000\n",
            "Discriminator Loss 0.68 Accuracy 0.58 | Generator Loss 0.82\n",
            "Epoch 25100\n",
            "Discriminator Loss 0.69 Accuracy 0.59 | Generator Loss 0.79\n",
            "Epoch 25200\n",
            "Discriminator Loss 0.71 Accuracy 0.52 | Generator Loss 0.76\n",
            "Epoch 25300\n",
            "Discriminator Loss 0.67 Accuracy 0.62 | Generator Loss 0.84\n",
            "Epoch 25400\n",
            "Discriminator Loss 0.68 Accuracy 0.55 | Generator Loss 0.86\n",
            "Epoch 25500\n",
            "Discriminator Loss 0.63 Accuracy 0.66 | Generator Loss 0.84\n",
            "Epoch 25600\n",
            "Discriminator Loss 0.67 Accuracy 0.64 | Generator Loss 0.82\n",
            "Epoch 25700\n",
            "Discriminator Loss 0.69 Accuracy 0.55 | Generator Loss 0.79\n",
            "Epoch 25800\n",
            "Discriminator Loss 0.66 Accuracy 0.62 | Generator Loss 0.78\n",
            "Epoch 25900\n",
            "Discriminator Loss 0.69 Accuracy 0.58 | Generator Loss 0.79\n",
            "Epoch 26000\n",
            "Discriminator Loss 0.68 Accuracy 0.58 | Generator Loss 0.83\n",
            "Epoch 26100\n",
            "Discriminator Loss 0.74 Accuracy 0.42 | Generator Loss 0.86\n",
            "Epoch 26200\n",
            "Discriminator Loss 0.65 Accuracy 0.64 | Generator Loss 0.82\n",
            "Epoch 26300\n",
            "Discriminator Loss 0.65 Accuracy 0.59 | Generator Loss 0.83\n",
            "Epoch 26400\n",
            "Discriminator Loss 0.70 Accuracy 0.58 | Generator Loss 0.83\n",
            "Epoch 26500\n",
            "Discriminator Loss 0.67 Accuracy 0.59 | Generator Loss 0.79\n",
            "Epoch 26600\n",
            "Discriminator Loss 0.69 Accuracy 0.59 | Generator Loss 0.81\n",
            "Epoch 26700\n",
            "Discriminator Loss 0.67 Accuracy 0.50 | Generator Loss 0.87\n",
            "Epoch 26800\n",
            "Discriminator Loss 0.67 Accuracy 0.62 | Generator Loss 0.84\n",
            "Epoch 26900\n",
            "Discriminator Loss 0.70 Accuracy 0.53 | Generator Loss 0.77\n",
            "Epoch 27000\n",
            "Discriminator Loss 0.66 Accuracy 0.61 | Generator Loss 0.75\n",
            "Epoch 27100\n",
            "Discriminator Loss 0.71 Accuracy 0.56 | Generator Loss 0.85\n",
            "Epoch 27200\n",
            "Discriminator Loss 0.65 Accuracy 0.69 | Generator Loss 0.79\n",
            "Epoch 27300\n",
            "Discriminator Loss 0.72 Accuracy 0.45 | Generator Loss 0.77\n",
            "Epoch 27400\n",
            "Discriminator Loss 0.68 Accuracy 0.58 | Generator Loss 0.74\n",
            "Epoch 27500\n",
            "Discriminator Loss 0.68 Accuracy 0.58 | Generator Loss 0.84\n",
            "Epoch 27600\n",
            "Discriminator Loss 0.67 Accuracy 0.64 | Generator Loss 0.80\n",
            "Epoch 27700\n",
            "Discriminator Loss 0.71 Accuracy 0.53 | Generator Loss 0.85\n",
            "Epoch 27800\n",
            "Discriminator Loss 0.66 Accuracy 0.56 | Generator Loss 0.80\n",
            "Epoch 27900\n",
            "Discriminator Loss 0.67 Accuracy 0.59 | Generator Loss 0.77\n",
            "Epoch 28000\n",
            "Discriminator Loss 0.68 Accuracy 0.56 | Generator Loss 0.77\n",
            "Epoch 28100\n",
            "Discriminator Loss 0.66 Accuracy 0.59 | Generator Loss 0.80\n",
            "Epoch 28200\n",
            "Discriminator Loss 0.67 Accuracy 0.56 | Generator Loss 0.84\n",
            "Epoch 28300\n",
            "Discriminator Loss 0.68 Accuracy 0.58 | Generator Loss 0.79\n",
            "Epoch 28400\n",
            "Discriminator Loss 0.63 Accuracy 0.66 | Generator Loss 0.78\n",
            "Epoch 28500\n",
            "Discriminator Loss 0.70 Accuracy 0.62 | Generator Loss 0.79\n",
            "Epoch 28600\n",
            "Discriminator Loss 0.66 Accuracy 0.64 | Generator Loss 0.83\n",
            "Epoch 28700\n",
            "Discriminator Loss 0.65 Accuracy 0.66 | Generator Loss 0.78\n",
            "Epoch 28800\n",
            "Discriminator Loss 0.71 Accuracy 0.56 | Generator Loss 0.77\n",
            "Epoch 28900\n",
            "Discriminator Loss 0.67 Accuracy 0.58 | Generator Loss 0.91\n",
            "Epoch 29000\n",
            "Discriminator Loss 0.65 Accuracy 0.59 | Generator Loss 0.86\n",
            "Epoch 29100\n",
            "Discriminator Loss 0.66 Accuracy 0.64 | Generator Loss 0.82\n",
            "Epoch 29200\n",
            "Discriminator Loss 0.71 Accuracy 0.53 | Generator Loss 0.81\n",
            "Epoch 29300\n",
            "Discriminator Loss 0.66 Accuracy 0.59 | Generator Loss 0.78\n",
            "Epoch 29400\n",
            "Discriminator Loss 0.73 Accuracy 0.48 | Generator Loss 0.85\n",
            "Epoch 29500\n",
            "Discriminator Loss 0.68 Accuracy 0.56 | Generator Loss 0.78\n",
            "Epoch 29600\n",
            "Discriminator Loss 0.69 Accuracy 0.59 | Generator Loss 0.79\n",
            "Epoch 29700\n",
            "Discriminator Loss 0.64 Accuracy 0.62 | Generator Loss 0.82\n",
            "Epoch 29800\n",
            "Discriminator Loss 0.65 Accuracy 0.66 | Generator Loss 0.77\n",
            "Epoch 29900\n",
            "Discriminator Loss 0.71 Accuracy 0.59 | Generator Loss 0.82\n",
            "Epoch 30000\n",
            "Discriminator Loss 0.66 Accuracy 0.56 | Generator Loss 0.83\n",
            "Epoch 30100\n",
            "Discriminator Loss 0.64 Accuracy 0.75 | Generator Loss 0.80\n",
            "Epoch 30200\n",
            "Discriminator Loss 0.66 Accuracy 0.59 | Generator Loss 0.85\n",
            "Epoch 30300\n",
            "Discriminator Loss 0.64 Accuracy 0.66 | Generator Loss 0.86\n",
            "Epoch 30400\n",
            "Discriminator Loss 0.66 Accuracy 0.61 | Generator Loss 0.75\n",
            "Epoch 30500\n",
            "Discriminator Loss 0.67 Accuracy 0.61 | Generator Loss 0.82\n",
            "Epoch 30600\n",
            "Discriminator Loss 0.65 Accuracy 0.61 | Generator Loss 0.75\n",
            "Epoch 30700\n",
            "Discriminator Loss 0.70 Accuracy 0.52 | Generator Loss 0.82\n",
            "Epoch 30800\n",
            "Discriminator Loss 0.68 Accuracy 0.62 | Generator Loss 0.81\n",
            "Epoch 30900\n",
            "Discriminator Loss 0.65 Accuracy 0.55 | Generator Loss 0.82\n",
            "Epoch 31000\n",
            "Discriminator Loss 0.69 Accuracy 0.52 | Generator Loss 0.84\n",
            "Epoch 31100\n",
            "Discriminator Loss 0.69 Accuracy 0.52 | Generator Loss 0.84\n",
            "Epoch 31200\n",
            "Discriminator Loss 0.71 Accuracy 0.52 | Generator Loss 0.76\n",
            "Epoch 31300\n",
            "Discriminator Loss 0.66 Accuracy 0.59 | Generator Loss 0.83\n",
            "Epoch 31400\n",
            "Discriminator Loss 0.71 Accuracy 0.50 | Generator Loss 0.85\n",
            "Epoch 31500\n",
            "Discriminator Loss 0.64 Accuracy 0.64 | Generator Loss 0.81\n",
            "Epoch 31600\n",
            "Discriminator Loss 0.66 Accuracy 0.59 | Generator Loss 0.84\n",
            "Epoch 31700\n",
            "Discriminator Loss 0.68 Accuracy 0.50 | Generator Loss 0.83\n",
            "Epoch 31800\n",
            "Discriminator Loss 0.70 Accuracy 0.50 | Generator Loss 0.76\n",
            "Epoch 31900\n",
            "Discriminator Loss 0.71 Accuracy 0.52 | Generator Loss 0.86\n",
            "Epoch 32000\n",
            "Discriminator Loss 0.69 Accuracy 0.50 | Generator Loss 0.85\n",
            "Epoch 32100\n",
            "Discriminator Loss 0.65 Accuracy 0.56 | Generator Loss 0.80\n",
            "Epoch 32200\n",
            "Discriminator Loss 0.71 Accuracy 0.53 | Generator Loss 0.83\n",
            "Epoch 32300\n",
            "Discriminator Loss 0.67 Accuracy 0.59 | Generator Loss 0.87\n",
            "Epoch 32400\n",
            "Discriminator Loss 0.66 Accuracy 0.66 | Generator Loss 0.83\n",
            "Epoch 32500\n",
            "Discriminator Loss 0.67 Accuracy 0.55 | Generator Loss 0.82\n",
            "Epoch 32600\n",
            "Discriminator Loss 0.67 Accuracy 0.69 | Generator Loss 0.84\n",
            "Epoch 32700\n",
            "Discriminator Loss 0.72 Accuracy 0.45 | Generator Loss 0.83\n",
            "Epoch 32800\n",
            "Discriminator Loss 0.70 Accuracy 0.53 | Generator Loss 0.84\n",
            "Epoch 32900\n",
            "Discriminator Loss 0.69 Accuracy 0.48 | Generator Loss 0.78\n",
            "Epoch 33000\n",
            "Discriminator Loss 0.68 Accuracy 0.53 | Generator Loss 0.82\n",
            "Epoch 33100\n",
            "Discriminator Loss 0.69 Accuracy 0.56 | Generator Loss 0.84\n",
            "Epoch 33200\n",
            "Discriminator Loss 0.71 Accuracy 0.50 | Generator Loss 0.83\n",
            "Epoch 33300\n",
            "Discriminator Loss 0.71 Accuracy 0.52 | Generator Loss 0.81\n",
            "Epoch 33400\n",
            "Discriminator Loss 0.66 Accuracy 0.64 | Generator Loss 0.76\n",
            "Epoch 33500\n",
            "Discriminator Loss 0.66 Accuracy 0.59 | Generator Loss 0.84\n",
            "Epoch 33600\n",
            "Discriminator Loss 0.66 Accuracy 0.56 | Generator Loss 0.86\n",
            "Epoch 33700\n",
            "Discriminator Loss 0.67 Accuracy 0.50 | Generator Loss 0.81\n",
            "Epoch 33800\n",
            "Discriminator Loss 0.72 Accuracy 0.55 | Generator Loss 0.86\n",
            "Epoch 33900\n",
            "Discriminator Loss 0.64 Accuracy 0.66 | Generator Loss 0.85\n",
            "Epoch 34000\n",
            "Discriminator Loss 0.65 Accuracy 0.61 | Generator Loss 0.82\n",
            "Epoch 34100\n",
            "Discriminator Loss 0.62 Accuracy 0.62 | Generator Loss 0.82\n",
            "Epoch 34200\n",
            "Discriminator Loss 0.61 Accuracy 0.70 | Generator Loss 0.82\n",
            "Epoch 34300\n",
            "Discriminator Loss 0.69 Accuracy 0.59 | Generator Loss 0.78\n",
            "Epoch 34400\n",
            "Discriminator Loss 0.65 Accuracy 0.62 | Generator Loss 0.81\n",
            "Epoch 34500\n",
            "Discriminator Loss 0.66 Accuracy 0.52 | Generator Loss 0.75\n",
            "Epoch 34600\n",
            "Discriminator Loss 0.66 Accuracy 0.69 | Generator Loss 0.87\n",
            "Epoch 34700\n",
            "Discriminator Loss 0.70 Accuracy 0.52 | Generator Loss 0.82\n",
            "Epoch 34800\n",
            "Discriminator Loss 0.78 Accuracy 0.42 | Generator Loss 0.83\n",
            "Epoch 34900\n",
            "Discriminator Loss 0.62 Accuracy 0.62 | Generator Loss 0.91\n",
            "Epoch 35000\n",
            "Discriminator Loss 0.63 Accuracy 0.64 | Generator Loss 0.84\n",
            "Epoch 35100\n",
            "Discriminator Loss 0.65 Accuracy 0.61 | Generator Loss 0.80\n",
            "Epoch 35200\n",
            "Discriminator Loss 0.67 Accuracy 0.56 | Generator Loss 0.76\n",
            "Epoch 35300\n",
            "Discriminator Loss 0.66 Accuracy 0.61 | Generator Loss 0.85\n",
            "Epoch 35400\n",
            "Discriminator Loss 0.65 Accuracy 0.69 | Generator Loss 0.79\n",
            "Epoch 35500\n",
            "Discriminator Loss 0.67 Accuracy 0.59 | Generator Loss 0.78\n",
            "Epoch 35600\n",
            "Discriminator Loss 0.70 Accuracy 0.55 | Generator Loss 0.92\n",
            "Epoch 35700\n",
            "Discriminator Loss 0.70 Accuracy 0.55 | Generator Loss 0.88\n",
            "Epoch 35800\n",
            "Discriminator Loss 0.71 Accuracy 0.56 | Generator Loss 0.83\n",
            "Epoch 35900\n",
            "Discriminator Loss 0.65 Accuracy 0.61 | Generator Loss 0.72\n",
            "Epoch 36000\n",
            "Discriminator Loss 0.69 Accuracy 0.56 | Generator Loss 0.79\n",
            "Epoch 36100\n",
            "Discriminator Loss 0.66 Accuracy 0.62 | Generator Loss 0.86\n",
            "Epoch 36200\n",
            "Discriminator Loss 0.64 Accuracy 0.62 | Generator Loss 0.72\n",
            "Epoch 36300\n",
            "Discriminator Loss 0.69 Accuracy 0.53 | Generator Loss 0.81\n",
            "Epoch 36400\n",
            "Discriminator Loss 0.67 Accuracy 0.53 | Generator Loss 0.77\n",
            "Epoch 36500\n",
            "Discriminator Loss 0.65 Accuracy 0.66 | Generator Loss 0.76\n",
            "Epoch 36600\n",
            "Discriminator Loss 0.64 Accuracy 0.58 | Generator Loss 0.83\n",
            "Epoch 36700\n",
            "Discriminator Loss 0.72 Accuracy 0.50 | Generator Loss 0.82\n",
            "Epoch 36800\n",
            "Discriminator Loss 0.72 Accuracy 0.48 | Generator Loss 0.82\n",
            "Epoch 36900\n",
            "Discriminator Loss 0.70 Accuracy 0.47 | Generator Loss 0.77\n",
            "Epoch 37000\n",
            "Discriminator Loss 0.69 Accuracy 0.56 | Generator Loss 0.82\n",
            "Epoch 37100\n",
            "Discriminator Loss 0.69 Accuracy 0.58 | Generator Loss 0.82\n",
            "Epoch 37200\n",
            "Discriminator Loss 0.69 Accuracy 0.52 | Generator Loss 0.79\n",
            "Epoch 37300\n",
            "Discriminator Loss 0.66 Accuracy 0.64 | Generator Loss 0.86\n",
            "Epoch 37400\n",
            "Discriminator Loss 0.67 Accuracy 0.56 | Generator Loss 0.79\n",
            "Epoch 37500\n",
            "Discriminator Loss 0.63 Accuracy 0.64 | Generator Loss 0.80\n",
            "Epoch 37600\n",
            "Discriminator Loss 0.71 Accuracy 0.53 | Generator Loss 0.77\n",
            "Epoch 37700\n",
            "Discriminator Loss 0.66 Accuracy 0.56 | Generator Loss 0.82\n",
            "Epoch 37800\n",
            "Discriminator Loss 0.71 Accuracy 0.53 | Generator Loss 0.78\n",
            "Epoch 37900\n",
            "Discriminator Loss 0.67 Accuracy 0.56 | Generator Loss 0.73\n",
            "Epoch 38000\n",
            "Discriminator Loss 0.67 Accuracy 0.62 | Generator Loss 0.81\n",
            "Epoch 38100\n",
            "Discriminator Loss 0.71 Accuracy 0.50 | Generator Loss 0.80\n",
            "Epoch 38200\n",
            "Discriminator Loss 0.66 Accuracy 0.59 | Generator Loss 0.75\n",
            "Epoch 38300\n",
            "Discriminator Loss 0.65 Accuracy 0.62 | Generator Loss 0.91\n",
            "Epoch 38400\n",
            "Discriminator Loss 0.63 Accuracy 0.64 | Generator Loss 0.75\n",
            "Epoch 38500\n",
            "Discriminator Loss 0.69 Accuracy 0.48 | Generator Loss 0.84\n",
            "Epoch 38600\n",
            "Discriminator Loss 0.66 Accuracy 0.59 | Generator Loss 0.81\n",
            "Epoch 38700\n",
            "Discriminator Loss 0.64 Accuracy 0.62 | Generator Loss 0.79\n",
            "Epoch 38800\n",
            "Discriminator Loss 0.64 Accuracy 0.62 | Generator Loss 0.84\n",
            "Epoch 38900\n",
            "Discriminator Loss 0.66 Accuracy 0.56 | Generator Loss 0.88\n",
            "Epoch 39000\n",
            "Discriminator Loss 0.74 Accuracy 0.47 | Generator Loss 0.89\n",
            "Epoch 39100\n",
            "Discriminator Loss 0.66 Accuracy 0.64 | Generator Loss 0.82\n",
            "Epoch 39200\n",
            "Discriminator Loss 0.72 Accuracy 0.50 | Generator Loss 0.80\n",
            "Epoch 39300\n",
            "Discriminator Loss 0.69 Accuracy 0.52 | Generator Loss 0.84\n",
            "Epoch 39400\n",
            "Discriminator Loss 0.63 Accuracy 0.59 | Generator Loss 0.80\n",
            "Epoch 39500\n",
            "Discriminator Loss 0.68 Accuracy 0.69 | Generator Loss 0.77\n",
            "Epoch 39600\n",
            "Discriminator Loss 0.68 Accuracy 0.59 | Generator Loss 0.83\n",
            "Epoch 39700\n",
            "Discriminator Loss 0.65 Accuracy 0.56 | Generator Loss 0.79\n",
            "Epoch 39800\n",
            "Discriminator Loss 0.66 Accuracy 0.59 | Generator Loss 0.80\n",
            "Epoch 39900\n",
            "Discriminator Loss 0.74 Accuracy 0.44 | Generator Loss 0.83\n",
            "Epoch 40000\n",
            "Discriminator Loss 0.71 Accuracy 0.48 | Generator Loss 0.77\n",
            "Epoch 40100\n",
            "Discriminator Loss 0.70 Accuracy 0.55 | Generator Loss 0.79\n",
            "Epoch 40200\n",
            "Discriminator Loss 0.66 Accuracy 0.59 | Generator Loss 0.87\n",
            "Epoch 40300\n",
            "Discriminator Loss 0.65 Accuracy 0.66 | Generator Loss 0.87\n",
            "Epoch 40400\n",
            "Discriminator Loss 0.63 Accuracy 0.67 | Generator Loss 0.81\n",
            "Epoch 40500\n",
            "Discriminator Loss 0.66 Accuracy 0.53 | Generator Loss 0.85\n",
            "Epoch 40600\n",
            "Discriminator Loss 0.68 Accuracy 0.58 | Generator Loss 0.85\n",
            "Epoch 40700\n",
            "Discriminator Loss 0.66 Accuracy 0.56 | Generator Loss 0.78\n",
            "Epoch 40800\n",
            "Discriminator Loss 0.65 Accuracy 0.69 | Generator Loss 0.79\n",
            "Epoch 40900\n",
            "Discriminator Loss 0.67 Accuracy 0.53 | Generator Loss 0.79\n",
            "Epoch 41000\n",
            "Discriminator Loss 0.67 Accuracy 0.58 | Generator Loss 0.82\n",
            "Epoch 41100\n",
            "Discriminator Loss 0.64 Accuracy 0.62 | Generator Loss 0.83\n",
            "Epoch 41200\n",
            "Discriminator Loss 0.66 Accuracy 0.53 | Generator Loss 0.86\n",
            "Epoch 41300\n",
            "Discriminator Loss 0.66 Accuracy 0.52 | Generator Loss 0.80\n",
            "Epoch 41400\n",
            "Discriminator Loss 0.68 Accuracy 0.58 | Generator Loss 0.84\n",
            "Epoch 41500\n",
            "Discriminator Loss 0.70 Accuracy 0.59 | Generator Loss 0.77\n",
            "Epoch 41600\n",
            "Discriminator Loss 0.69 Accuracy 0.48 | Generator Loss 0.82\n",
            "Epoch 41700\n",
            "Discriminator Loss 0.68 Accuracy 0.59 | Generator Loss 0.81\n",
            "Epoch 41800\n",
            "Discriminator Loss 0.69 Accuracy 0.52 | Generator Loss 0.80\n",
            "Epoch 41900\n",
            "Discriminator Loss 0.73 Accuracy 0.52 | Generator Loss 0.79\n",
            "Epoch 42000\n",
            "Discriminator Loss 0.68 Accuracy 0.53 | Generator Loss 0.80\n",
            "Epoch 42100\n",
            "Discriminator Loss 0.67 Accuracy 0.56 | Generator Loss 0.83\n",
            "Epoch 42200\n",
            "Discriminator Loss 0.65 Accuracy 0.62 | Generator Loss 0.84\n",
            "Epoch 42300\n",
            "Discriminator Loss 0.68 Accuracy 0.61 | Generator Loss 0.82\n",
            "Epoch 42400\n",
            "Discriminator Loss 0.70 Accuracy 0.47 | Generator Loss 0.91\n",
            "Epoch 42500\n",
            "Discriminator Loss 0.63 Accuracy 0.70 | Generator Loss 0.88\n",
            "Epoch 42600\n",
            "Discriminator Loss 0.72 Accuracy 0.52 | Generator Loss 0.77\n",
            "Epoch 42700\n",
            "Discriminator Loss 0.64 Accuracy 0.58 | Generator Loss 0.78\n",
            "Epoch 42800\n",
            "Discriminator Loss 0.72 Accuracy 0.56 | Generator Loss 0.80\n",
            "Epoch 42900\n",
            "Discriminator Loss 0.66 Accuracy 0.59 | Generator Loss 0.86\n",
            "Epoch 43000\n",
            "Discriminator Loss 0.68 Accuracy 0.56 | Generator Loss 0.86\n",
            "Epoch 43100\n",
            "Discriminator Loss 0.65 Accuracy 0.67 | Generator Loss 0.87\n",
            "Epoch 43200\n",
            "Discriminator Loss 0.71 Accuracy 0.50 | Generator Loss 0.85\n",
            "Epoch 43300\n",
            "Discriminator Loss 0.62 Accuracy 0.67 | Generator Loss 0.83\n",
            "Epoch 43400\n",
            "Discriminator Loss 0.68 Accuracy 0.48 | Generator Loss 0.83\n",
            "Epoch 43500\n",
            "Discriminator Loss 0.65 Accuracy 0.62 | Generator Loss 0.83\n",
            "Epoch 43600\n",
            "Discriminator Loss 0.69 Accuracy 0.52 | Generator Loss 0.88\n",
            "Epoch 43700\n",
            "Discriminator Loss 0.67 Accuracy 0.58 | Generator Loss 0.80\n",
            "Epoch 43800\n",
            "Discriminator Loss 0.69 Accuracy 0.55 | Generator Loss 0.80\n",
            "Epoch 43900\n",
            "Discriminator Loss 0.57 Accuracy 0.75 | Generator Loss 0.82\n",
            "Epoch 44000\n",
            "Discriminator Loss 0.67 Accuracy 0.58 | Generator Loss 0.76\n",
            "Epoch 44100\n",
            "Discriminator Loss 0.66 Accuracy 0.64 | Generator Loss 0.80\n",
            "Epoch 44200\n",
            "Discriminator Loss 0.66 Accuracy 0.59 | Generator Loss 0.87\n",
            "Epoch 44300\n",
            "Discriminator Loss 0.68 Accuracy 0.52 | Generator Loss 0.84\n",
            "Epoch 44400\n",
            "Discriminator Loss 0.69 Accuracy 0.58 | Generator Loss 0.76\n",
            "Epoch 44500\n",
            "Discriminator Loss 0.65 Accuracy 0.61 | Generator Loss 0.89\n",
            "Epoch 44600\n",
            "Discriminator Loss 0.65 Accuracy 0.61 | Generator Loss 0.80\n",
            "Epoch 44700\n",
            "Discriminator Loss 0.72 Accuracy 0.44 | Generator Loss 0.86\n",
            "Epoch 44800\n",
            "Discriminator Loss 0.65 Accuracy 0.62 | Generator Loss 0.88\n",
            "Epoch 44900\n",
            "Discriminator Loss 0.66 Accuracy 0.58 | Generator Loss 0.89\n",
            "Epoch 45000\n",
            "Discriminator Loss 0.67 Accuracy 0.50 | Generator Loss 0.87\n",
            "Epoch 45100\n",
            "Discriminator Loss 0.66 Accuracy 0.66 | Generator Loss 0.85\n",
            "Epoch 45200\n",
            "Discriminator Loss 0.66 Accuracy 0.66 | Generator Loss 0.78\n",
            "Epoch 45300\n",
            "Discriminator Loss 0.68 Accuracy 0.66 | Generator Loss 0.81\n",
            "Epoch 45400\n",
            "Discriminator Loss 0.68 Accuracy 0.52 | Generator Loss 0.82\n",
            "Epoch 45500\n",
            "Discriminator Loss 0.69 Accuracy 0.62 | Generator Loss 0.79\n",
            "Epoch 45600\n",
            "Discriminator Loss 0.66 Accuracy 0.52 | Generator Loss 0.82\n",
            "Epoch 45700\n",
            "Discriminator Loss 0.69 Accuracy 0.48 | Generator Loss 0.91\n",
            "Epoch 45800\n",
            "Discriminator Loss 0.69 Accuracy 0.55 | Generator Loss 0.88\n",
            "Epoch 45900\n",
            "Discriminator Loss 0.62 Accuracy 0.62 | Generator Loss 0.83\n",
            "Epoch 46000\n",
            "Discriminator Loss 0.68 Accuracy 0.58 | Generator Loss 0.88\n",
            "Epoch 46100\n",
            "Discriminator Loss 0.68 Accuracy 0.53 | Generator Loss 0.84\n",
            "Epoch 46200\n",
            "Discriminator Loss 0.71 Accuracy 0.50 | Generator Loss 0.86\n",
            "Epoch 46300\n",
            "Discriminator Loss 0.64 Accuracy 0.66 | Generator Loss 0.82\n",
            "Epoch 46400\n",
            "Discriminator Loss 0.69 Accuracy 0.53 | Generator Loss 0.79\n",
            "Epoch 46500\n",
            "Discriminator Loss 0.73 Accuracy 0.47 | Generator Loss 0.83\n",
            "Epoch 46600\n",
            "Discriminator Loss 0.75 Accuracy 0.52 | Generator Loss 0.82\n",
            "Epoch 46700\n",
            "Discriminator Loss 0.65 Accuracy 0.67 | Generator Loss 0.79\n",
            "Epoch 46800\n",
            "Discriminator Loss 0.62 Accuracy 0.67 | Generator Loss 0.76\n",
            "Epoch 46900\n",
            "Discriminator Loss 0.62 Accuracy 0.70 | Generator Loss 0.83\n",
            "Epoch 47000\n",
            "Discriminator Loss 0.68 Accuracy 0.61 | Generator Loss 0.82\n",
            "Epoch 47100\n",
            "Discriminator Loss 0.72 Accuracy 0.50 | Generator Loss 0.78\n",
            "Epoch 47200\n",
            "Discriminator Loss 0.67 Accuracy 0.59 | Generator Loss 0.83\n",
            "Epoch 47300\n",
            "Discriminator Loss 0.72 Accuracy 0.52 | Generator Loss 0.86\n",
            "Epoch 47400\n",
            "Discriminator Loss 0.63 Accuracy 0.66 | Generator Loss 0.86\n",
            "Epoch 47500\n",
            "Discriminator Loss 0.67 Accuracy 0.59 | Generator Loss 0.84\n",
            "Epoch 47600\n",
            "Discriminator Loss 0.65 Accuracy 0.56 | Generator Loss 0.84\n",
            "Epoch 47700\n",
            "Discriminator Loss 0.63 Accuracy 0.64 | Generator Loss 0.82\n",
            "Epoch 47800\n",
            "Discriminator Loss 0.67 Accuracy 0.61 | Generator Loss 0.81\n",
            "Epoch 47900\n",
            "Discriminator Loss 0.70 Accuracy 0.52 | Generator Loss 0.81\n",
            "Epoch 48000\n",
            "Discriminator Loss 0.68 Accuracy 0.61 | Generator Loss 0.88\n",
            "Epoch 48100\n",
            "Discriminator Loss 0.69 Accuracy 0.55 | Generator Loss 0.76\n",
            "Epoch 48200\n",
            "Discriminator Loss 0.69 Accuracy 0.45 | Generator Loss 0.85\n",
            "Epoch 48300\n",
            "Discriminator Loss 0.69 Accuracy 0.56 | Generator Loss 0.81\n",
            "Epoch 48400\n",
            "Discriminator Loss 0.66 Accuracy 0.64 | Generator Loss 0.88\n",
            "Epoch 48500\n",
            "Discriminator Loss 0.65 Accuracy 0.59 | Generator Loss 0.80\n",
            "Epoch 48600\n",
            "Discriminator Loss 0.66 Accuracy 0.64 | Generator Loss 0.81\n",
            "Epoch 48700\n",
            "Discriminator Loss 0.74 Accuracy 0.52 | Generator Loss 0.86\n",
            "Epoch 48800\n",
            "Discriminator Loss 0.67 Accuracy 0.58 | Generator Loss 0.82\n",
            "Epoch 48900\n",
            "Discriminator Loss 0.68 Accuracy 0.66 | Generator Loss 0.87\n",
            "Epoch 49000\n",
            "Discriminator Loss 0.65 Accuracy 0.66 | Generator Loss 0.83\n",
            "Epoch 49100\n",
            "Discriminator Loss 0.67 Accuracy 0.58 | Generator Loss 0.85\n",
            "Epoch 49200\n",
            "Discriminator Loss 0.67 Accuracy 0.53 | Generator Loss 0.87\n",
            "Epoch 49300\n",
            "Discriminator Loss 0.67 Accuracy 0.59 | Generator Loss 0.87\n",
            "Epoch 49400\n",
            "Discriminator Loss 0.67 Accuracy 0.62 | Generator Loss 0.87\n",
            "Epoch 49500\n",
            "Discriminator Loss 0.64 Accuracy 0.61 | Generator Loss 0.97\n",
            "Epoch 49600\n",
            "Discriminator Loss 0.66 Accuracy 0.58 | Generator Loss 0.78\n",
            "Epoch 49700\n",
            "Discriminator Loss 0.67 Accuracy 0.53 | Generator Loss 0.83\n",
            "Epoch 49800\n",
            "Discriminator Loss 0.63 Accuracy 0.64 | Generator Loss 0.80\n",
            "Epoch 49900\n",
            "Discriminator Loss 0.65 Accuracy 0.66 | Generator Loss 0.84\n",
            "Epoch 50000\n",
            "Discriminator Loss 0.66 Accuracy 0.56 | Generator Loss 0.88\n"
          ],
          "name": "stdout"
        }
      ]
    },
    {
      "cell_type": "markdown",
      "metadata": {
        "id": "pXCP08TAiYo0",
        "colab_type": "text"
      },
      "source": [
        "## Visualizing the GAN's loss"
      ]
    },
    {
      "cell_type": "code",
      "metadata": {
        "id": "n3amVRVBczjW",
        "colab_type": "code",
        "outputId": "0278aa02-c519-4945-b65d-ecc2d05af614",
        "colab": {
          "base_uri": "https://localhost:8080/",
          "height": 283
        }
      },
      "source": [
        "plt.plot(g_losses, label='Generator Loss')\n",
        "plt.plot(d_losses, label='Discriminator Loss')\n",
        "plt.legend()"
      ],
      "execution_count": 18,
      "outputs": [
        {
          "output_type": "execute_result",
          "data": {
            "text/plain": [
              "<matplotlib.legend.Legend at 0x7f0106efdc50>"
            ]
          },
          "metadata": {
            "tags": []
          },
          "execution_count": 18
        },
        {
          "output_type": "display_data",
          "data": {
            "image/png": "[encoded data removed]",
            "text/plain": [
              "<Figure size 432x288 with 1 Axes>"
            ]
          },
          "metadata": {
            "tags": []
          }
        }
      ]
    },
    {
      "cell_type": "markdown",
      "metadata": {
        "id": "MR0RhRJNigfo",
        "colab_type": "text"
      },
      "source": [
        "## Visualizing the images generated by our GAN"
      ]
    },
    {
      "cell_type": "code",
      "metadata": {
        "id": "p0lsxXcQMcVz",
        "colab_type": "code",
        "outputId": "a4e1901a-f07d-40ab-cdb6-ee5e4d80f369",
        "colab": {
          "base_uri": "https://localhost:8080/",
          "height": 287
        }
      },
      "source": [
        "gi = imread('/content/drive/My Drive/GAN_images/0.png')\n",
        "plt.imshow(gi, cmap='Greys')"
      ],
      "execution_count": 19,
      "outputs": [
        {
          "output_type": "execute_result",
          "data": {
            "text/plain": [
              "<matplotlib.image.AxesImage at 0x7f0106f97c88>"
            ]
          },
          "metadata": {
            "tags": []
          },
          "execution_count": 19
        },
        {
          "output_type": "display_data",
          "data": {
            "image/png": "[encoded data removed]",
            "text/plain": [
              "<Figure size 432x288 with 1 Axes>"
            ]
          },
          "metadata": {
            "tags": []
          }
        }
      ]
    },
    {
      "cell_type": "code",
      "metadata": {
        "id": "rJzsSIlRMdMf",
        "colab_type": "code",
        "outputId": "2316bf17-dc6c-408d-c7a4-5781282bab7b",
        "colab": {
          "base_uri": "https://localhost:8080/",
          "height": 287
        }
      },
      "source": [
        "gi = imread('/content/drive/My Drive/GAN_images/1000.png')\n",
        "plt.imshow(gi, cmap='Greys')"
      ],
      "execution_count": 20,
      "outputs": [
        {
          "output_type": "execute_result",
          "data": {
            "text/plain": [
              "<matplotlib.image.AxesImage at 0x7f0106d887f0>"
            ]
          },
          "metadata": {
            "tags": []
          },
          "execution_count": 20
        },
        {
          "output_type": "display_data",
          "data": {
            "image/png": "[encoded data removed]",
            "text/plain": [
              "<Figure size 432x288 with 1 Axes>"
            ]
          },
          "metadata": {
            "tags": []
          }
        }
      ]
    },
    {
      "cell_type": "code",
      "metadata": {
        "id": "wBjVwKorMfDy",
        "colab_type": "code",
        "outputId": "0d41b4af-936f-4ccf-f56c-55ecd7276e36",
        "colab": {
          "base_uri": "https://localhost:8080/",
          "height": 287
        }
      },
      "source": [
        "gi = imread('/content/drive/My Drive/GAN_images/5000.png')\n",
        "plt.imshow(gi, cmap='Greys')"
      ],
      "execution_count": 21,
      "outputs": [
        {
          "output_type": "execute_result",
          "data": {
            "text/plain": [
              "<matplotlib.image.AxesImage at 0x7f0106d58a58>"
            ]
          },
          "metadata": {
            "tags": []
          },
          "execution_count": 21
        },
        {
          "output_type": "display_data",
          "data": {
            "image/png": "[encoded data removed]",
            "text/plain": [
              "<Figure size 432x288 with 1 Axes>"
            ]
          },
          "metadata": {
            "tags": []
          }
        }
      ]
    },
    {
      "cell_type": "code",
      "metadata": {
        "id": "VFAGCNpEMgKY",
        "colab_type": "code",
        "outputId": "00612703-e8bc-4819-f732-79d5c847fd11",
        "colab": {
          "base_uri": "https://localhost:8080/",
          "height": 287
        }
      },
      "source": [
        "gi = imread('/content/drive/My Drive/GAN_images/10000.png')\n",
        "plt.imshow(gi, cmap='Greys')"
      ],
      "execution_count": 22,
      "outputs": [
        {
          "output_type": "execute_result",
          "data": {
            "text/plain": [
              "<matplotlib.image.AxesImage at 0x7f0106d34cc0>"
            ]
          },
          "metadata": {
            "tags": []
          },
          "execution_count": 22
        },
        {
          "output_type": "display_data",
          "data": {
            "image/png": "[encoded data removed]",
            "text/plain": [
              "<Figure size 432x288 with 1 Axes>"
            ]
          },
          "metadata": {
            "tags": []
          }
        }
      ]
    },
    {
      "cell_type": "code",
      "metadata": {
        "id": "w4UT1QY4MhOw",
        "colab_type": "code",
        "outputId": "bbed3fdd-da0f-44a5-aa6d-aaa028a0aa74",
        "colab": {
          "base_uri": "https://localhost:8080/",
          "height": 287
        }
      },
      "source": [
        "gi = imread('/content/drive/My Drive/GAN_images/25000.png')\n",
        "plt.imshow(gi, cmap='Greys')"
      ],
      "execution_count": 23,
      "outputs": [
        {
          "output_type": "execute_result",
          "data": {
            "text/plain": [
              "<matplotlib.image.AxesImage at 0x7f0106c96f28>"
            ]
          },
          "metadata": {
            "tags": []
          },
          "execution_count": 23
        },
        {
          "output_type": "display_data",
          "data": {
            "image/png": "[encoded data removed]",
            "text/plain": [
              "<Figure size 432x288 with 1 Axes>"
            ]
          },
          "metadata": {
            "tags": []
          }
        }
      ]
    },
    {
      "cell_type": "code",
      "metadata": {
        "id": "lSTKOUs7JdPQ",
        "colab_type": "code",
        "outputId": "b1e918e2-1a43-4653-8ed3-fa36fac7c65b",
        "colab": {
          "base_uri": "https://localhost:8080/",
          "height": 287
        }
      },
      "source": [
        "gi = imread('/content/drive/My Drive/GAN_images/40000.png')\n",
        "plt.imshow(gi, cmap='Greys')"
      ],
      "execution_count": 24,
      "outputs": [
        {
          "output_type": "execute_result",
          "data": {
            "text/plain": [
              "<matplotlib.image.AxesImage at 0x7f0106c021d0>"
            ]
          },
          "metadata": {
            "tags": []
          },
          "execution_count": 24
        },
        {
          "output_type": "display_data",
          "data": {
            "image/png": "[encoded data removed]",
            "text/plain": [
              "<Figure size 432x288 with 1 Axes>"
            ]
          },
          "metadata": {
            "tags": []
          }
        }
      ]
    },
    {
      "cell_type": "code",
      "metadata": {
        "id": "8R1innAiUbRK",
        "colab_type": "code",
        "colab": {
          "base_uri": "https://localhost:8080/",
          "height": 287
        },
        "outputId": "97d103b7-b3b4-4afc-8542-e15e16ea1f96"
      },
      "source": [
        "gi = imread('/content/drive/My Drive/GAN_images/49500.png')\n",
        "plt.imshow(gi, cmap='Greys')"
      ],
      "execution_count": 25,
      "outputs": [
        {
          "output_type": "execute_result",
          "data": {
            "text/plain": [
              "<matplotlib.image.AxesImage at 0x7f0106be4438>"
            ]
          },
          "metadata": {
            "tags": []
          },
          "execution_count": 25
        },
        {
          "output_type": "display_data",
          "data": {
            "image/png": "[encoded data removed]",
            "text/plain": [
              "<Figure size 432x288 with 1 Axes>"
            ]
          },
          "metadata": {
            "tags": []
          }
        }
      ]
    },
    {
      "cell_type": "markdown",
      "metadata": {
        "id": "xnc4RTFpilRb",
        "colab_type": "text"
      },
      "source": [
        "## Save the GAN model"
      ]
    },
    {
      "cell_type": "code",
      "metadata": {
        "id": "yrt0qidFip-B",
        "colab_type": "code",
        "colab": {}
      },
      "source": [
        "combined_model.save_weights('/content/drive/My Drive/Colab Notebooks/models/GAN_combined_model.h5')\n",
        "discriminator.save_weights('/content/drive/My Drive/Colab Notebooks/models/GAN_discriminator.h5')\n",
        "generator.save_weights('/content/drive/My Drive/Colab Notebooks/models/GAN_generator.h5')"
      ],
      "execution_count": 0,
      "outputs": []
    }
  ]
}